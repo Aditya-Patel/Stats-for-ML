{
 "cells": [
  {
   "cell_type": "code",
   "execution_count": 6,
   "metadata": {},
   "outputs": [],
   "source": [
    "import numpy as np\n",
    "import matplotlib.pyplot as plt"
   ]
  },
  {
   "cell_type": "code",
   "execution_count": 7,
   "metadata": {},
   "outputs": [],
   "source": [
    "\n",
    "def GaussianMonteCarlo(num_samples, num_components, means, var):\n",
    "    weights = np.ones(num_components) / num_components\n",
    "    gmm_mc_samples = np.zeros((num_samples, len(means[0])))\n",
    "\n",
    "    for i in range(num_samples):\n",
    "        # Sample component index\n",
    "        comp_idx = np.random.choice(num_components, p=weights)\n",
    "\n",
    "        # Sample from selected component using normal distribution pdf\n",
    "        sample = np.random.normal(loc=means[comp_idx], scale=var)\n",
    "        gmm_mc_samples[i] = sample\n",
    "    \n",
    "    return gmm_mc_samples\n",
    "\n",
    "def BivariateNormSamples(num_samples, num_components, means, var):\n",
    "    covars = np.array([[[var, 0],[0, var]]] * num_components)\n",
    "    \n",
    "    biv_norm_samples = np.concatenate([\n",
    "            np.random.multivariate_normal(means[k], covars[k], size=int(num_samples/num_components)) for k in range(num_components)\n",
    "    ])\n",
    "    \n",
    "    return biv_norm_samples\n"
   ]
  },
  {
   "cell_type": "code",
   "execution_count": 21,
   "metadata": {},
   "outputs": [],
   "source": [
    "# Define GMM parameters\n",
    "samps = 800\n",
    "comps = 8\n",
    "variance = 0.02\n",
    "gmm_means = np.array([(2 * np.cos((2 * np.pi * k)/comps), 2 * np.sin((2 * np.pi * k)/comps)) for k in range(comps)])"
   ]
  },
  {
   "cell_type": "code",
   "execution_count": 24,
   "metadata": {},
   "outputs": [],
   "source": [
    "# Obtain samples from Monte Carlo method\n",
    "gmm_mc_samples = GaussianMonteCarlo(samps, comps, gmm_means, variance)\n",
    "\n",
    "# Obtain samples from Bivariate Normal distribution\n",
    "biv_norm_samples = BivariateNormSamples(800, 8, gmm_means, variance)"
   ]
  },
  {
   "cell_type": "code",
   "execution_count": 26,
   "metadata": {},
   "outputs": [
    {
     "data": {
      "text/plain": [
       "array([[ 1.39329043, -1.42517364],\n",
       "       [-1.4055632 , -1.41961114],\n",
       "       [-0.05100627,  1.96719303],\n",
       "       ...,\n",
       "       [ 1.42479896, -1.45591496],\n",
       "       [-1.4193877 ,  1.43009854],\n",
       "       [ 1.4140682 ,  1.40261605]])"
      ]
     },
     "execution_count": 26,
     "metadata": {},
     "output_type": "execute_result"
    }
   ],
   "source": [
    "gmm_mc_samples\n"
   ]
  },
  {
   "cell_type": "code",
   "execution_count": null,
   "metadata": {},
   "outputs": [],
   "source": []
  }
 ],
 "metadata": {
  "kernelspec": {
   "display_name": "Python 3",
   "language": "python",
   "name": "python3"
  },
  "language_info": {
   "codemirror_mode": {
    "name": "ipython",
    "version": 3
   },
   "file_extension": ".py",
   "mimetype": "text/x-python",
   "name": "python",
   "nbconvert_exporter": "python",
   "pygments_lexer": "ipython3",
   "version": "3.10.1"
  }
 },
 "nbformat": 4,
 "nbformat_minor": 2
}
