{
 "cells": [
  {
   "cell_type": "code",
   "execution_count": 119,
   "metadata": {},
   "outputs": [],
   "source": [
    "import numpy as np\n",
    "import pandas as pd\n",
    "import matplotlib.pyplot as plt\n",
    "import os\n",
    "\n",
    "import tensorflow as tf\n",
    "from tensorflow import keras\n",
    "from sklearn.model_selection import train_test_split"
   ]
  },
  {
   "cell_type": "code",
   "execution_count": 120,
   "metadata": {},
   "outputs": [],
   "source": [
    "epoch_ct = 50\n",
    "batch_size = 86"
   ]
  },
  {
   "cell_type": "code",
   "execution_count": 121,
   "metadata": {},
   "outputs": [],
   "source": [
    "MNIST_TRAIN_DIR = os.getcwd() + '/mnist_train.csv'\n",
    "MNIST_TEST_DIR = os.getcwd() + '/mnist_test.csv'\n",
    "\n",
    "def ImportMNISTDataFromDirectory(train_dir, test_dir):\n",
    "    mnist_test = pd.read_csv(test_dir)\n",
    "    mnist_train = pd.read_csv(train_dir)\n",
    "\n",
    "    Xt_df = mnist_test.drop(['label'], axis=1)\n",
    "    yt_df = mnist_test.label\n",
    "    Xr_df = mnist_train.drop(['label'], axis=1)\n",
    "    yr_df = mnist_train.label\n",
    "    return Xt_df, yt_df, Xr_df, yr_df"
   ]
  },
  {
   "cell_type": "code",
   "execution_count": 122,
   "metadata": {},
   "outputs": [],
   "source": [
    "Xt_df, yt_df, Xr_df, yr_df = ImportMNISTDataFromDirectory(MNIST_TRAIN_DIR, MNIST_TEST_DIR)\n",
    "\n",
    "X_r = Xr_df.values.reshape(-1, 28, 28, 1)\n",
    "X_t = Xt_df.values.reshape(-1, 28, 28, 1)\n",
    "y_r = tf.keras.utils.to_categorical(yr_df, num_classes=10)\n",
    "y_t = tf.keras.utils.to_categorical(yt_df, num_classes=10)\n"
   ]
  },
  {
   "cell_type": "code",
   "execution_count": 123,
   "metadata": {},
   "outputs": [],
   "source": [
    "rescale_data = keras.Sequential([keras.layers.Rescaling(1/255.)])\n",
    "X_r, X_v, y_r, y_v = train_test_split(X_r, y_r, test_size=0.2, random_state=42)\n",
    "\n",
    "train_ds = tf.data.Dataset.from_tensor_slices((X_r, y_r))\n",
    "vald_ds = tf.data.Dataset.from_tensor_slices((X_v, y_v))\n",
    "test_ds = tf.data.Dataset.from_tensor_slices((X_t, y_t))\n",
    "\n",
    "train_ds = train_ds.map(lambda x, y: (rescale_data(x), y)).shuffle(1000).batch(batch_size).prefetch(buffer_size=tf.data.AUTOTUNE)\n",
    "vald_ds = vald_ds.map(lambda x, y: (rescale_data(x), y)).shuffle(1000).batch(batch_size).prefetch(buffer_size=tf.data.AUTOTUNE)\n",
    "test_ds = test_ds.map(lambda x, y: (rescale_data(x), y)).shuffle(1000).batch(batch_size).prefetch(buffer_size=tf.data.AUTOTUNE)"
   ]
  },
  {
   "cell_type": "code",
   "execution_count": 124,
   "metadata": {},
   "outputs": [
    {
     "name": "stdout",
     "output_type": "stream",
     "text": [
      "Model: \"sequential_39\"\n",
      "_________________________________________________________________\n",
      " Layer (type)                Output Shape              Param #   \n",
      "=================================================================\n",
      " conv2d_159 (Conv2D)         (None, 28, 28, 64)        640       \n",
      "                                                                 \n",
      " max_pooling2d_82 (MaxPooli  (None, 14, 14, 64)        0         \n",
      " ng2D)                                                           \n",
      "                                                                 \n",
      " conv2d_160 (Conv2D)         (None, 14, 14, 128)       73856     \n",
      "                                                                 \n",
      " max_pooling2d_83 (MaxPooli  (None, 7, 7, 128)         0         \n",
      " ng2D)                                                           \n",
      "                                                                 \n",
      " conv2d_161 (Conv2D)         (None, 7, 7, 128)         147584    \n",
      "                                                                 \n",
      " max_pooling2d_84 (MaxPooli  (None, 4, 4, 128)         0         \n",
      " ng2D)                                                           \n",
      "                                                                 \n",
      " flatten_37 (Flatten)        (None, 2048)              0         \n",
      "                                                                 \n",
      " dense_71 (Dense)            (None, 256)               524544    \n",
      "                                                                 \n",
      " dense_72 (Dense)            (None, 10)                2570      \n",
      "                                                                 \n",
      "=================================================================\n",
      "Total params: 749194 (2.86 MB)\n",
      "Trainable params: 749194 (2.86 MB)\n",
      "Non-trainable params: 0 (0.00 Byte)\n",
      "_________________________________________________________________\n"
     ]
    }
   ],
   "source": [
    "model = keras.models.Sequential([\n",
    "    # Image Convolution and downsampling - Node 1\n",
    "    keras.layers.Conv2D(input_shape=(28,28,1), filters=64, kernel_size=3, padding='same', activation='relu'),\n",
    "    # keras.layers.Conv2D(filters=64, kernel_size=3, padding='same', activation='relu'),\n",
    "    keras.layers.MaxPool2D(pool_size=2, padding='same'),\n",
    "    # Image Convolution and downsampling - Node 2\n",
    "    keras.layers.Conv2D(filters=128, kernel_size=3, padding='same', activation='relu'),\n",
    "    # keras.layers.Conv2D(filters=128, kernel_size=3, padding='same', activation='relu'),\n",
    "    keras.layers.MaxPool2D(pool_size=2, padding='same'),\n",
    "    # Image Convolution and downsampling - Node 3\n",
    "    keras.layers.Conv2D(filters=128, kernel_size=3, padding='same', activation='relu'),\n",
    "    # keras.layers.Conv2D(filters=128, kernel_size=3, padding='same', activation='relu'),\n",
    "    keras.layers.MaxPool2D(pool_size=2, padding='same'),\n",
    "    # Reduce to 1-D vector\n",
    "    keras.layers.Flatten(),\n",
    "    # Analysis using DNNs \n",
    "    keras.layers.Dense(256, activation='relu'),\n",
    "    keras.layers.Dense(10, activation='softmax')\n",
    "])\n",
    "\n",
    "model.compile(loss='categorical_crossentropy', optimizer='adam', metrics=['accuracy'])\n",
    "model.summary()"
   ]
  },
  {
   "cell_type": "code",
   "execution_count": 125,
   "metadata": {},
   "outputs": [
    {
     "name": "stdout",
     "output_type": "stream",
     "text": [
      "Epoch 1/50\n",
      "559/559 [==============================] - 34s 61ms/step - loss: 0.1556 - accuracy: 0.9506 - val_loss: 0.0555 - val_accuracy: 0.9833 - lr: 0.0010\n",
      "Epoch 2/50\n",
      "559/559 [==============================] - 31s 56ms/step - loss: 0.0434 - accuracy: 0.9862 - val_loss: 0.0447 - val_accuracy: 0.9866 - lr: 0.0010\n",
      "Epoch 3/50\n",
      "559/559 [==============================] - 33s 58ms/step - loss: 0.0284 - accuracy: 0.9909 - val_loss: 0.0488 - val_accuracy: 0.9862 - lr: 0.0010\n",
      "Epoch 4/50\n",
      "559/559 [==============================] - 33s 59ms/step - loss: 0.0209 - accuracy: 0.9935 - val_loss: 0.0343 - val_accuracy: 0.9902 - lr: 0.0010\n",
      "Epoch 5/50\n",
      "559/559 [==============================] - 33s 60ms/step - loss: 0.0164 - accuracy: 0.9946 - val_loss: 0.0396 - val_accuracy: 0.9905 - lr: 0.0010\n",
      "Epoch 6/50\n",
      "559/559 [==============================] - 34s 60ms/step - loss: 0.0141 - accuracy: 0.9955 - val_loss: 0.0526 - val_accuracy: 0.9880 - lr: 0.0010\n",
      "Epoch 7/50\n",
      "559/559 [==============================] - 32s 57ms/step - loss: 0.0113 - accuracy: 0.9961 - val_loss: 0.0422 - val_accuracy: 0.9893 - lr: 0.0010\n",
      "Epoch 8/50\n",
      "559/559 [==============================] - 35s 63ms/step - loss: 0.0101 - accuracy: 0.9967 - val_loss: 0.0387 - val_accuracy: 0.9898 - lr: 0.0010\n",
      "Epoch 9/50\n",
      "559/559 [==============================] - 31s 55ms/step - loss: 0.0088 - accuracy: 0.9970 - val_loss: 0.0488 - val_accuracy: 0.9893 - lr: 0.0010\n",
      "Epoch 10/50\n",
      "559/559 [==============================] - 33s 59ms/step - loss: 0.0078 - accuracy: 0.9972 - val_loss: 0.0417 - val_accuracy: 0.9908 - lr: 0.0010\n",
      "Epoch 11/50\n",
      "559/559 [==============================] - 35s 63ms/step - loss: 0.0078 - accuracy: 0.9974 - val_loss: 0.0467 - val_accuracy: 0.9917 - lr: 0.0010\n",
      "Epoch 12/50\n",
      "559/559 [==============================] - 35s 62ms/step - loss: 0.0068 - accuracy: 0.9977 - val_loss: 0.0410 - val_accuracy: 0.9916 - lr: 0.0010\n",
      "Epoch 13/50\n",
      "559/559 [==============================] - 31s 55ms/step - loss: 0.0050 - accuracy: 0.9983 - val_loss: 0.0470 - val_accuracy: 0.9900 - lr: 0.0010\n",
      "Epoch 14/50\n",
      "559/559 [==============================] - 34s 61ms/step - loss: 0.0046 - accuracy: 0.9986 - val_loss: 0.0578 - val_accuracy: 0.9889 - lr: 0.0010\n",
      "Epoch 15/50\n",
      "559/559 [==============================] - 34s 61ms/step - loss: 0.0058 - accuracy: 0.9981 - val_loss: 0.0551 - val_accuracy: 0.9900 - lr: 0.0010\n",
      "Epoch 16/50\n",
      "559/559 [==============================] - 31s 56ms/step - loss: 0.0040 - accuracy: 0.9988 - val_loss: 0.0554 - val_accuracy: 0.9898 - lr: 0.0010\n",
      "Epoch 17/50\n",
      "559/559 [==============================] - 34s 60ms/step - loss: 0.0069 - accuracy: 0.9979 - val_loss: 0.0564 - val_accuracy: 0.9898 - lr: 0.0010\n",
      "Epoch 18/50\n",
      "559/559 [==============================] - 32s 57ms/step - loss: 0.0042 - accuracy: 0.9986 - val_loss: 0.0487 - val_accuracy: 0.9916 - lr: 0.0010\n",
      "Epoch 19/50\n",
      "559/559 [==============================] - 32s 56ms/step - loss: 8.3222e-04 - accuracy: 0.9998 - val_loss: 0.0435 - val_accuracy: 0.9925 - lr: 1.0000e-04\n",
      "Epoch 20/50\n",
      "559/559 [==============================] - 33s 58ms/step - loss: 2.6023e-04 - accuracy: 1.0000 - val_loss: 0.0429 - val_accuracy: 0.9929 - lr: 1.0000e-04\n",
      "Epoch 21/50\n",
      "559/559 [==============================] - 34s 60ms/step - loss: 1.6947e-04 - accuracy: 1.0000 - val_loss: 0.0429 - val_accuracy: 0.9933 - lr: 1.0000e-04\n",
      "Epoch 22/50\n",
      "559/559 [==============================] - 31s 55ms/step - loss: 1.0229e-04 - accuracy: 1.0000 - val_loss: 0.0431 - val_accuracy: 0.9933 - lr: 1.0000e-04\n",
      "Epoch 23/50\n",
      "559/559 [==============================] - 37s 66ms/step - loss: 5.6398e-05 - accuracy: 1.0000 - val_loss: 0.0437 - val_accuracy: 0.9934 - lr: 1.0000e-04\n",
      "Epoch 24/50\n",
      "559/559 [==============================] - 35s 62ms/step - loss: 3.7545e-05 - accuracy: 1.0000 - val_loss: 0.0444 - val_accuracy: 0.9934 - lr: 1.0000e-04\n",
      "Epoch 25/50\n",
      "559/559 [==============================] - 33s 59ms/step - loss: 2.7084e-05 - accuracy: 1.0000 - val_loss: 0.0445 - val_accuracy: 0.9934 - lr: 1.0000e-05\n",
      "Epoch 26/50\n",
      "559/559 [==============================] - 33s 59ms/step - loss: 2.6181e-05 - accuracy: 1.0000 - val_loss: 0.0446 - val_accuracy: 0.9934 - lr: 1.0000e-05\n",
      "Epoch 27/50\n",
      "559/559 [==============================] - 32s 58ms/step - loss: 2.5219e-05 - accuracy: 1.0000 - val_loss: 0.0446 - val_accuracy: 0.9934 - lr: 1.0000e-06\n",
      "Epoch 28/50\n",
      "559/559 [==============================] - 32s 57ms/step - loss: 2.5083e-05 - accuracy: 1.0000 - val_loss: 0.0446 - val_accuracy: 0.9935 - lr: 1.0000e-06\n",
      "Epoch 29/50\n",
      "559/559 [==============================] - 31s 55ms/step - loss: 2.4930e-05 - accuracy: 1.0000 - val_loss: 0.0446 - val_accuracy: 0.9935 - lr: 1.0000e-07\n",
      "Epoch 30/50\n",
      "559/559 [==============================] - 32s 56ms/step - loss: 2.4911e-05 - accuracy: 1.0000 - val_loss: 0.0446 - val_accuracy: 0.9935 - lr: 1.0000e-07\n",
      "Epoch 31/50\n",
      "559/559 [==============================] - 32s 56ms/step - loss: 2.4884e-05 - accuracy: 1.0000 - val_loss: 0.0446 - val_accuracy: 0.9935 - lr: 1.0000e-07\n",
      "Epoch 32/50\n",
      "559/559 [==============================] - 32s 56ms/step - loss: 2.4849e-05 - accuracy: 1.0000 - val_loss: 0.0446 - val_accuracy: 0.9935 - lr: 1.0000e-07\n",
      "Epoch 33/50\n",
      "559/559 [==============================] - 31s 56ms/step - loss: 2.4804e-05 - accuracy: 1.0000 - val_loss: 0.0446 - val_accuracy: 0.9935 - lr: 1.0000e-07\n",
      "Epoch 34/50\n",
      "559/559 [==============================] - 31s 56ms/step - loss: 2.4747e-05 - accuracy: 1.0000 - val_loss: 0.0446 - val_accuracy: 0.9935 - lr: 1.0000e-07\n",
      "Epoch 35/50\n",
      "559/559 [==============================] - 31s 55ms/step - loss: 2.4680e-05 - accuracy: 1.0000 - val_loss: 0.0446 - val_accuracy: 0.9935 - lr: 1.0000e-07\n",
      "Epoch 36/50\n",
      "559/559 [==============================] - 32s 58ms/step - loss: 2.4601e-05 - accuracy: 1.0000 - val_loss: 0.0446 - val_accuracy: 0.9935 - lr: 1.0000e-07\n",
      "Epoch 37/50\n",
      "559/559 [==============================] - 31s 55ms/step - loss: 2.4512e-05 - accuracy: 1.0000 - val_loss: 0.0446 - val_accuracy: 0.9935 - lr: 1.0000e-07\n",
      "Epoch 38/50\n",
      "559/559 [==============================] - 31s 56ms/step - loss: 2.4415e-05 - accuracy: 1.0000 - val_loss: 0.0446 - val_accuracy: 0.9935 - lr: 1.0000e-07\n",
      "Epoch 39/50\n",
      "559/559 [==============================] - 32s 57ms/step - loss: 2.4313e-05 - accuracy: 1.0000 - val_loss: 0.0446 - val_accuracy: 0.9935 - lr: 1.0000e-07\n",
      "Epoch 40/50\n",
      "559/559 [==============================] - 31s 56ms/step - loss: 2.4206e-05 - accuracy: 1.0000 - val_loss: 0.0447 - val_accuracy: 0.9935 - lr: 1.0000e-07\n",
      "Epoch 41/50\n",
      "559/559 [==============================] - 31s 55ms/step - loss: 2.4097e-05 - accuracy: 1.0000 - val_loss: 0.0447 - val_accuracy: 0.9935 - lr: 1.0000e-07\n",
      "Epoch 42/50\n",
      "559/559 [==============================] - 32s 57ms/step - loss: 2.3986e-05 - accuracy: 1.0000 - val_loss: 0.0447 - val_accuracy: 0.9935 - lr: 1.0000e-07\n",
      "Epoch 43/50\n",
      "559/559 [==============================] - 31s 56ms/step - loss: 2.3875e-05 - accuracy: 1.0000 - val_loss: 0.0447 - val_accuracy: 0.9935 - lr: 1.0000e-07\n",
      "Epoch 44/50\n",
      "559/559 [==============================] - 32s 57ms/step - loss: 2.3763e-05 - accuracy: 1.0000 - val_loss: 0.0447 - val_accuracy: 0.9935 - lr: 1.0000e-07\n",
      "Epoch 45/50\n",
      "559/559 [==============================] - 32s 57ms/step - loss: 2.3652e-05 - accuracy: 1.0000 - val_loss: 0.0447 - val_accuracy: 0.9935 - lr: 1.0000e-07\n",
      "Epoch 46/50\n",
      "559/559 [==============================] - 31s 56ms/step - loss: 2.3541e-05 - accuracy: 1.0000 - val_loss: 0.0447 - val_accuracy: 0.9935 - lr: 1.0000e-07\n",
      "Epoch 47/50\n",
      "559/559 [==============================] - 32s 57ms/step - loss: 2.3431e-05 - accuracy: 1.0000 - val_loss: 0.0447 - val_accuracy: 0.9935 - lr: 1.0000e-07\n",
      "Epoch 48/50\n",
      "559/559 [==============================] - 31s 56ms/step - loss: 2.3322e-05 - accuracy: 1.0000 - val_loss: 0.0448 - val_accuracy: 0.9935 - lr: 1.0000e-07\n",
      "Epoch 49/50\n",
      "559/559 [==============================] - 31s 56ms/step - loss: 2.3213e-05 - accuracy: 1.0000 - val_loss: 0.0448 - val_accuracy: 0.9935 - lr: 1.0000e-07\n",
      "Epoch 50/50\n",
      "559/559 [==============================] - 31s 56ms/step - loss: 2.3104e-05 - accuracy: 1.0000 - val_loss: 0.0448 - val_accuracy: 0.9935 - lr: 1.0000e-07\n"
     ]
    }
   ],
   "source": [
    "lr_reduction = keras.callbacks.ReduceLROnPlateau(\n",
    "    monitor='loss',\n",
    "    factor=0.1,\n",
    "    patience=2,\n",
    "    min_lr=0.0000001\n",
    ")\n",
    "\n",
    "hist = model.fit(\n",
    "    train_ds,\n",
    "    validation_data = vald_ds,\n",
    "    epochs = epoch_ct,\n",
    "    callbacks=[lr_reduction],\n",
    "    shuffle=True,\n",
    ")"
   ]
  },
  {
   "cell_type": "code",
   "execution_count": 130,
   "metadata": {},
   "outputs": [
    {
     "name": "stdout",
     "output_type": "stream",
     "text": [
      "117/117 - 2s - loss: 0.0309 - accuracy: 0.9944 - 2s/epoch - 19ms/step\n"
     ]
    },
    {
     "data": {
      "text/plain": [
       "0.9944000244140625"
      ]
     },
     "execution_count": 130,
     "metadata": {},
     "output_type": "execute_result"
    }
   ],
   "source": [
    "future = model.evaluate(test_ds, verbose=2)\n",
    "future[1]"
   ]
  },
  {
   "cell_type": "code",
   "execution_count": 133,
   "metadata": {},
   "outputs": [
    {
     "data": {
      "image/png": "[encoded data removed]",
      "text/plain": [
       "<Figure size 432x288 with 1 Axes>"
      ]
     },
     "metadata": {
      "needs_background": "light"
     },
     "output_type": "display_data"
    }
   ],
   "source": [
    "x = np.array(hist.epoch)\n",
    "y = np.array(hist.history['accuracy'])\n",
    "y = np.multiply(np.subtract(1, y), 100)\n",
    "plt.plot(x, y)\n",
    "plt.title(f'Test Error in Percent vs. Epoch\\nModel Prediction Error = {(1-future[1])*100:.2f}%')\n",
    "plt.xlabel('Epoch')\n",
    "plt.ylabel('Test Error (%)')\n",
    "plt.show()"
   ]
  },
  {
   "cell_type": "code",
   "execution_count": null,
   "metadata": {},
   "outputs": [],
   "source": []
  }
 ],
 "metadata": {
  "kernelspec": {
   "display_name": "Python 3",
   "language": "python",
   "name": "python3"
  },
  "language_info": {
   "codemirror_mode": {
    "name": "ipython",
    "version": 3
   },
   "file_extension": ".py",
   "mimetype": "text/x-python",
   "name": "python",
   "nbconvert_exporter": "python",
   "pygments_lexer": "ipython3",
   "version": "3.10.1"
  }
 },
 "nbformat": 4,
 "nbformat_minor": 2
}
