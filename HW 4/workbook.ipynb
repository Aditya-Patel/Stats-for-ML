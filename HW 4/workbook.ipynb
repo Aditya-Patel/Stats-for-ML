{
 "cells": [
  {
   "cell_type": "code",
   "execution_count": 22,
   "metadata": {},
   "outputs": [],
   "source": [
    "import numpy as np\n",
    "import pandas as pd\n",
    "import os\n",
    "\n",
    "import tensorflow as tf\n",
    "from tensorflow import keras\n",
    "from sklearn.model_selection import train_test_split"
   ]
  },
  {
   "cell_type": "code",
   "execution_count": 34,
   "metadata": {},
   "outputs": [],
   "source": [
    "epoch_ct = 50\n",
    "batch_size = 86"
   ]
  },
  {
   "cell_type": "code",
   "execution_count": 24,
   "metadata": {},
   "outputs": [],
   "source": [
    "MNIST_TRAIN_DIR = os.getcwd() + '/mnist_train.csv'\n",
    "MNIST_TEST_DIR = os.getcwd() + '/mnist_test.csv'\n",
    "\n",
    "def ImportMNISTDataFromDirectory(train_dir, test_dir):\n",
    "    mnist_test = pd.read_csv(test_dir)\n",
    "    mnist_train = pd.read_csv(train_dir)\n",
    "\n",
    "    mnist = pd.concat([mnist_train, mnist_test])\n",
    "    mnist.columns = mnist_train.columns\n",
    "\n",
    "    X_df = mnist.drop(['label'], axis=1)\n",
    "    y_df = mnist.label\n",
    "    return X_df, y_df"
   ]
  },
  {
   "cell_type": "code",
   "execution_count": 25,
   "metadata": {},
   "outputs": [],
   "source": [
    "X_df, y_df = ImportMNISTDataFromDirectory(MNIST_TRAIN_DIR, MNIST_TEST_DIR)\n",
    "\n",
    "X_df = X_df.values.reshape(-1, 28, 28, 1)\n",
    "y_df = tf.keras.utils.to_categorical(y_df, num_classes=10)\n"
   ]
  },
  {
   "cell_type": "code",
   "execution_count": 26,
   "metadata": {},
   "outputs": [],
   "source": [
    "# Divide into validation and training data\n",
    "X_t, X_v, y_t, y_v = train_test_split(X_df, y_df, test_size=0.2, random_state=42)"
   ]
  },
  {
   "cell_type": "code",
   "execution_count": 56,
   "metadata": {},
   "outputs": [
    {
     "data": {
      "text/plain": [
       "<_BatchDataset element_spec=(TensorSpec(shape=(None, 28, 28, 1), dtype=tf.float32, name=None), TensorSpec(shape=(None, 10), dtype=tf.float32, name=None))>"
      ]
     },
     "execution_count": 56,
     "metadata": {},
     "output_type": "execute_result"
    }
   ],
   "source": [
    "rescale_data = keras.Sequential([keras.layers.Rescaling(1/255.)])\n",
    "\n",
    "train_ds = tf.data.Dataset.from_tensor_slices((X_t, y_t))\n",
    "vald_ds = tf.data.Dataset.from_tensor_slices((X_v, y_v))\n",
    "\n",
    "train_ds = train_ds.map(lambda x, y: (rescale_data(x), y))\n",
    "train_ds = train_ds.shuffle(1000)\n",
    "train_ds.batch(batch_size)\n",
    "\n",
    "vald_ds = vald_ds.map(lambda x, y: (rescale_data(x), y))\n",
    "vald_ds = vald_ds.shuffle(1000)\n",
    "vald_ds.batch(batch_size)"
   ]
  },
  {
   "cell_type": "code",
   "execution_count": 59,
   "metadata": {},
   "outputs": [
    {
     "data": {
      "text/plain": [
       "(None, 10)"
      ]
     },
     "execution_count": 59,
     "metadata": {},
     "output_type": "execute_result"
    }
   ],
   "source": [
    "model = keras.models.Sequential([\n",
    "    keras.layers.Conv2D(filters=64, kernel_size=3, padding='same', activation='relu', input_shape=(28, 28, 1)),\n",
    "    # keras.layers.Conv2D(filters=64, kernel_size=3, padding='same', activation='relu'),\n",
    "    keras.layers.MaxPool2D(pool_size=2, padding='same'),\n",
    "    keras.layers.Conv2D(filters=128, kernel_size=3, padding='same', activation='relu'),\n",
    "    # keras.layers.Conv2D(filters=128, kernel_size=3, padding='same', activation='relu'),    \n",
    "    keras.layers.MaxPool2D(pool_size=2, padding='same'),\n",
    "    keras.layers.Conv2D(filters=128, kernel_size=3, padding='same', activation='relu'),\n",
    "    # keras.layers.Conv2D(filters=128, kernel_size=3, padding='same', activation='relu'),\n",
    "    keras.layers.MaxPool2D(pool_size=2, padding='same'),\n",
    "    keras.layers.Flatten(),\n",
    "    keras.layers.Dense(128, activation='relu'),\n",
    "    keras.layers.Dense(10, activation='softmax')\n",
    "])\n",
    "\n",
    "model.compile(loss='categorical_crossentropy', optimizer='adam', metrics=['accuracy'])\n",
    "\n",
    "model.output_shape"
   ]
  },
  {
   "cell_type": "code",
   "execution_count": 51,
   "metadata": {},
   "outputs": [
    {
     "data": {
      "text/plain": [
       "TensorShape([86, 256])"
      ]
     },
     "execution_count": 51,
     "metadata": {},
     "output_type": "execute_result"
    }
   ],
   "source": [
    "flayer = keras.layers.Flatten()\n",
    "dlayer = keras.layers.Dense(256, activation='relu')\n",
    "x = tf.constant(np.random.random((86, 4, 4, 128)), dtype=tf.float32)\n",
    "xf = flayer(x)\n",
    "xd = dlayer(xf)\n",
    "xd.shape"
   ]
  },
  {
   "cell_type": "code",
   "execution_count": 62,
   "metadata": {},
   "outputs": [
    {
     "name": "stdout",
     "output_type": "stream",
     "text": [
      "Epoch 1/50\n"
     ]
    },
    {
     "ename": "ValueError",
     "evalue": "in user code:\n\n    File \"/Library/Frameworks/Python.framework/Versions/3.10/lib/python3.10/site-packages/keras/src/engine/training.py\", line 1401, in train_function  *\n        return step_function(self, iterator)\n    File \"/Library/Frameworks/Python.framework/Versions/3.10/lib/python3.10/site-packages/keras/src/engine/training.py\", line 1384, in step_function  **\n        outputs = model.distribute_strategy.run(run_step, args=(data,))\n    File \"/Library/Frameworks/Python.framework/Versions/3.10/lib/python3.10/site-packages/keras/src/engine/training.py\", line 1373, in run_step  **\n        outputs = model.train_step(data)\n    File \"/Library/Frameworks/Python.framework/Versions/3.10/lib/python3.10/site-packages/keras/src/engine/training.py\", line 1150, in train_step\n        y_pred = self(x, training=True)\n    File \"/Library/Frameworks/Python.framework/Versions/3.10/lib/python3.10/site-packages/keras/src/utils/traceback_utils.py\", line 70, in error_handler\n        raise e.with_traceback(filtered_tb) from None\n    File \"/Library/Frameworks/Python.framework/Versions/3.10/lib/python3.10/site-packages/keras/src/engine/input_spec.py\", line 280, in assert_input_compatibility\n        raise ValueError(\n\n    ValueError: Exception encountered when calling layer 'sequential_21' (type Sequential).\n    \n    Input 0 of layer \"dense_32\" is incompatible with the layer: expected axis -1 of input shape to have value 2048, but received input with shape (28, 512)\n    \n    Call arguments received by layer 'sequential_21' (type Sequential):\n      • inputs=tf.Tensor(shape=(28, 28, 1), dtype=float32)\n      • training=True\n      • mask=None\n",
     "output_type": "error",
     "traceback": [
      "\u001b[0;31m---------------------------------------------------------------------------\u001b[0m",
      "\u001b[0;31mValueError\u001b[0m                                Traceback (most recent call last)",
      "\u001b[1;32m/Users/aditya/Library/CloudStorage/OneDrive-purdue.edu/Stats for ML/HW 4/workbook.ipynb Cell 9\u001b[0m line \u001b[0;36m<cell line: 8>\u001b[0;34m()\u001b[0m\n\u001b[1;32m      <a href='vscode-notebook-cell:/Users/aditya/Library/CloudStorage/OneDrive-purdue.edu/Stats%20for%20ML/HW%204/workbook.ipynb#W6sZmlsZQ%3D%3D?line=0'>1</a>\u001b[0m lr_reduction \u001b[39m=\u001b[39m keras\u001b[39m.\u001b[39mcallbacks\u001b[39m.\u001b[39mReduceLROnPlateau(\n\u001b[1;32m      <a href='vscode-notebook-cell:/Users/aditya/Library/CloudStorage/OneDrive-purdue.edu/Stats%20for%20ML/HW%204/workbook.ipynb#W6sZmlsZQ%3D%3D?line=1'>2</a>\u001b[0m     monitor\u001b[39m=\u001b[39m\u001b[39m'\u001b[39m\u001b[39mloss\u001b[39m\u001b[39m'\u001b[39m,\n\u001b[1;32m      <a href='vscode-notebook-cell:/Users/aditya/Library/CloudStorage/OneDrive-purdue.edu/Stats%20for%20ML/HW%204/workbook.ipynb#W6sZmlsZQ%3D%3D?line=2'>3</a>\u001b[0m     factor\u001b[39m=\u001b[39m\u001b[39m0.1\u001b[39m,\n\u001b[1;32m      <a href='vscode-notebook-cell:/Users/aditya/Library/CloudStorage/OneDrive-purdue.edu/Stats%20for%20ML/HW%204/workbook.ipynb#W6sZmlsZQ%3D%3D?line=3'>4</a>\u001b[0m     patience\u001b[39m=\u001b[39m\u001b[39m2\u001b[39m,\n\u001b[1;32m      <a href='vscode-notebook-cell:/Users/aditya/Library/CloudStorage/OneDrive-purdue.edu/Stats%20for%20ML/HW%204/workbook.ipynb#W6sZmlsZQ%3D%3D?line=4'>5</a>\u001b[0m     min_lr\u001b[39m=\u001b[39m\u001b[39m0.0000001\u001b[39m\n\u001b[1;32m      <a href='vscode-notebook-cell:/Users/aditya/Library/CloudStorage/OneDrive-purdue.edu/Stats%20for%20ML/HW%204/workbook.ipynb#W6sZmlsZQ%3D%3D?line=5'>6</a>\u001b[0m )\n\u001b[0;32m----> <a href='vscode-notebook-cell:/Users/aditya/Library/CloudStorage/OneDrive-purdue.edu/Stats%20for%20ML/HW%204/workbook.ipynb#W6sZmlsZQ%3D%3D?line=7'>8</a>\u001b[0m hist \u001b[39m=\u001b[39m model\u001b[39m.\u001b[39;49mfit(\n\u001b[1;32m      <a href='vscode-notebook-cell:/Users/aditya/Library/CloudStorage/OneDrive-purdue.edu/Stats%20for%20ML/HW%204/workbook.ipynb#W6sZmlsZQ%3D%3D?line=8'>9</a>\u001b[0m     train_ds,\n\u001b[1;32m     <a href='vscode-notebook-cell:/Users/aditya/Library/CloudStorage/OneDrive-purdue.edu/Stats%20for%20ML/HW%204/workbook.ipynb#W6sZmlsZQ%3D%3D?line=9'>10</a>\u001b[0m     validation_data \u001b[39m=\u001b[39;49m vald_ds,\n\u001b[1;32m     <a href='vscode-notebook-cell:/Users/aditya/Library/CloudStorage/OneDrive-purdue.edu/Stats%20for%20ML/HW%204/workbook.ipynb#W6sZmlsZQ%3D%3D?line=10'>11</a>\u001b[0m     epochs \u001b[39m=\u001b[39;49m epoch_ct,\n\u001b[1;32m     <a href='vscode-notebook-cell:/Users/aditya/Library/CloudStorage/OneDrive-purdue.edu/Stats%20for%20ML/HW%204/workbook.ipynb#W6sZmlsZQ%3D%3D?line=11'>12</a>\u001b[0m     callbacks\u001b[39m=\u001b[39;49m[lr_reduction],\n\u001b[1;32m     <a href='vscode-notebook-cell:/Users/aditya/Library/CloudStorage/OneDrive-purdue.edu/Stats%20for%20ML/HW%204/workbook.ipynb#W6sZmlsZQ%3D%3D?line=12'>13</a>\u001b[0m     shuffle\u001b[39m=\u001b[39;49m\u001b[39mTrue\u001b[39;49;00m,\n\u001b[1;32m     <a href='vscode-notebook-cell:/Users/aditya/Library/CloudStorage/OneDrive-purdue.edu/Stats%20for%20ML/HW%204/workbook.ipynb#W6sZmlsZQ%3D%3D?line=13'>14</a>\u001b[0m )\n",
      "File \u001b[0;32m/Library/Frameworks/Python.framework/Versions/3.10/lib/python3.10/site-packages/keras/src/utils/traceback_utils.py:70\u001b[0m, in \u001b[0;36mfilter_traceback.<locals>.error_handler\u001b[0;34m(*args, **kwargs)\u001b[0m\n\u001b[1;32m     67\u001b[0m     filtered_tb \u001b[39m=\u001b[39m _process_traceback_frames(e\u001b[39m.\u001b[39m__traceback__)\n\u001b[1;32m     68\u001b[0m     \u001b[39m# To get the full stack trace, call:\u001b[39;00m\n\u001b[1;32m     69\u001b[0m     \u001b[39m# `tf.debugging.disable_traceback_filtering()`\u001b[39;00m\n\u001b[0;32m---> 70\u001b[0m     \u001b[39mraise\u001b[39;00m e\u001b[39m.\u001b[39mwith_traceback(filtered_tb) \u001b[39mfrom\u001b[39;00m \u001b[39mNone\u001b[39m\n\u001b[1;32m     71\u001b[0m \u001b[39mfinally\u001b[39;00m:\n\u001b[1;32m     72\u001b[0m     \u001b[39mdel\u001b[39;00m filtered_tb\n",
      "File \u001b[0;32m/var/folders/fb/b284hdj15nl_mww9g6j8f6mm0000gn/T/__autograph_generated_file18gl73ys.py:15\u001b[0m, in \u001b[0;36mouter_factory.<locals>.inner_factory.<locals>.tf__train_function\u001b[0;34m(iterator)\u001b[0m\n\u001b[1;32m     13\u001b[0m \u001b[39mtry\u001b[39;00m:\n\u001b[1;32m     14\u001b[0m     do_return \u001b[39m=\u001b[39m \u001b[39mTrue\u001b[39;00m\n\u001b[0;32m---> 15\u001b[0m     retval_ \u001b[39m=\u001b[39m ag__\u001b[39m.\u001b[39mconverted_call(ag__\u001b[39m.\u001b[39mld(step_function), (ag__\u001b[39m.\u001b[39mld(\u001b[39mself\u001b[39m), ag__\u001b[39m.\u001b[39mld(iterator)), \u001b[39mNone\u001b[39;00m, fscope)\n\u001b[1;32m     16\u001b[0m \u001b[39mexcept\u001b[39;00m:\n\u001b[1;32m     17\u001b[0m     do_return \u001b[39m=\u001b[39m \u001b[39mFalse\u001b[39;00m\n",
      "\u001b[0;31mValueError\u001b[0m: in user code:\n\n    File \"/Library/Frameworks/Python.framework/Versions/3.10/lib/python3.10/site-packages/keras/src/engine/training.py\", line 1401, in train_function  *\n        return step_function(self, iterator)\n    File \"/Library/Frameworks/Python.framework/Versions/3.10/lib/python3.10/site-packages/keras/src/engine/training.py\", line 1384, in step_function  **\n        outputs = model.distribute_strategy.run(run_step, args=(data,))\n    File \"/Library/Frameworks/Python.framework/Versions/3.10/lib/python3.10/site-packages/keras/src/engine/training.py\", line 1373, in run_step  **\n        outputs = model.train_step(data)\n    File \"/Library/Frameworks/Python.framework/Versions/3.10/lib/python3.10/site-packages/keras/src/engine/training.py\", line 1150, in train_step\n        y_pred = self(x, training=True)\n    File \"/Library/Frameworks/Python.framework/Versions/3.10/lib/python3.10/site-packages/keras/src/utils/traceback_utils.py\", line 70, in error_handler\n        raise e.with_traceback(filtered_tb) from None\n    File \"/Library/Frameworks/Python.framework/Versions/3.10/lib/python3.10/site-packages/keras/src/engine/input_spec.py\", line 280, in assert_input_compatibility\n        raise ValueError(\n\n    ValueError: Exception encountered when calling layer 'sequential_21' (type Sequential).\n    \n    Input 0 of layer \"dense_32\" is incompatible with the layer: expected axis -1 of input shape to have value 2048, but received input with shape (28, 512)\n    \n    Call arguments received by layer 'sequential_21' (type Sequential):\n      • inputs=tf.Tensor(shape=(28, 28, 1), dtype=float32)\n      • training=True\n      • mask=None\n"
     ]
    }
   ],
   "source": [
    "lr_reduction = keras.callbacks.ReduceLROnPlateau(\n",
    "    monitor='loss',\n",
    "    factor=0.1,\n",
    "    patience=2,\n",
    "    min_lr=0.0000001\n",
    ")\n",
    "\n",
    "hist = model.fit(\n",
    "    train_ds,\n",
    "    validation_data = vald_ds,\n",
    "    epochs = epoch_ct,\n",
    "    callbacks=[lr_reduction],\n",
    "    shuffle=True,\n",
    ")"
   ]
  },
  {
   "cell_type": "code",
   "execution_count": null,
   "metadata": {},
   "outputs": [
    {
     "name": "stdout",
     "output_type": "stream",
     "text": [
      "313/313 - 1s - loss: 0.1246 - accuracy: 0.9730 - 735ms/epoch - 2ms/step\n"
     ]
    }
   ],
   "source": [
    "future = model.evaluate(vald_ds, verbose=2)"
   ]
  },
  {
   "cell_type": "code",
   "execution_count": null,
   "metadata": {},
   "outputs": [],
   "source": [
    "pd.DataFrame(hist.history).plot()"
   ]
  }
 ],
 "metadata": {
  "kernelspec": {
   "display_name": "Python 3",
   "language": "python",
   "name": "python3"
  },
  "language_info": {
   "codemirror_mode": {
    "name": "ipython",
    "version": 3
   },
   "file_extension": ".py",
   "mimetype": "text/x-python",
   "name": "python",
   "nbconvert_exporter": "python",
   "pygments_lexer": "ipython3",
   "version": "3.10.1"
  }
 },
 "nbformat": 4,
 "nbformat_minor": 2
}
